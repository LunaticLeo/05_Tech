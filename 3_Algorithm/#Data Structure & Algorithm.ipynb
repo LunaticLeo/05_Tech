{
 "cells": [
  {
   "cell_type": "markdown",
   "id": "42bf3838",
   "metadata": {},
   "source": [
    "**<center><font size=\"6\">Basic Data Structure</font></center>**"
   ]
  },
  {
   "cell_type": "markdown",
   "id": "e6c5dfba",
   "metadata": {},
   "source": [
    "# Data Structure\n",
    "- Array \n",
    "    - An array is a collection of items stored at contiguous memory locations\n",
    "    - Access O(1), Update O(1), Add O(N), Delete O(N)\n",
    "    - Python: List(not static length), the list of python is more like ArrayList in Java  \n",
    "    - Java: Array(static length) & ArrayList(not static length)  \n",
    "- ArrayList\n",
    "    - Array List is a resizable array used in **Java**, the difference between normal array is that the size of ArrayList can be modified. ArrayList usually used when more search operations are required.\n",
    "    - Access O(1), Update O(1), Add O(N), Delete O(N)  \n",
    "    - Python: List  \n",
    "    - Java: ArrayList   \n",
    "- LinkedList\n",
    "    - LinkedList is a resizable array used in **Java** too. A linked list is a linear data structure, but the elements are not stored at contiguous memory locations. The elements in a linked list are linked using pointers. Usually for less read, most add situation. LinkedList should be used where more insert and delete operation is needed.\n",
    "    - Access O(N), Update O(N), Add O(1), Delete O(1), but if add or delete with index which means not in the top or end, so add and delete is O(N) too\n",
    "    - Single Linked List and Double Linked List\n",
    "    - Python: Deque\n",
    "    - Java: LikedList\n",
    "- Queue\n",
    "    - A Queue is a linear structure which follows a particular order in which the operations are performed. The order is First In First Out (FIFO). \n",
    "    - Access O(N), Update O(N), Add O(1), Delete O(1), but if add and delete with index, so add and delete is O(N) too\n",
    "    - Python: Deque\n",
    "    - Java: Queue, using likedlist interface; PriorityQueue, sorted queue\n",
    "- Stack\n",
    "    - linear data structure, LIFO(Last In First Out)\n",
    "    - Access O(N), Update O(N), Add O(1), Delete O(1), but if add and delete with index, so add and delete is O(N) too\n",
    "    - Python: List/Deque\n",
    "    - Java: Stack\n",
    "- HashTable\n",
    "    - (key, value)\n",
    "    - Access O(1), Update O(1), Add O(1), Delete O(1)\n",
    "    - Python: Dictionary\n",
    "    - Java: HashMap\n",
    "- Set\n",
    "    - store any number of unique values in any order\n",
    "    - Access o(1), Update o(1), Add o(1), Delete o(1)\n",
    "    - Python: Set\n",
    "    - Java: Set/HashSet/TreeSet. HashSet is not sorted, TreeSet is sorted and always Red-Black Tress, HashSet is faster than TreeSet.\n",
    "- Tree\n",
    "    - Nonlinear data structure\n",
    "    - root node is the topmost node\n",
    "    - inner node(branch) is any node has child nodes\n",
    "    - leaf node is any node doesn't hae child nodes.\n",
    "    - Distance(路径距离):The number of edges along the shortest path between two nodes.\n",
    "    - Degree(度): the max distance from a given node to any leaf node. A leaf has necessarily degree zero. \n",
    "    - Degree of tree(最大度): The degree of a tree is the maximum degree of a node in the tree. \n",
    "    - Level(层): The level of a node is the distance to the root node.\n",
    "    - Height/Depth(高度/深度): the number of levels\n",
    "    - Preorder Traversal(前序遍历): parents -> left child -> right child\n",
    "    - Inorder Traversal(中序遍历): left child -> parents -> right child\n",
    "    - Postorder Traversal(后序遍历): left child -> right child -> parents \n",
    "- Binary Tree\n",
    "    - A tree that every node has at most two child node. \n",
    "    - Complete Binary Tree(完全二叉树): a binary tree in which every level, except possibly the last, is completely filled, and all nodes are as far left as possible.\n",
    "    - A full binary tree(满二叉树): a tree in which every node other than the leaves has two children.\n",
    "    - Binary Search Tree: ordered tree. A node's left child must have a value less than its parent's value and the node's right child must have a value greater than its parent value. Create & Search: o(log2 n)\n",
    "- Heap\n",
    "    - A binary tree that a node value is smaller/bigger than all child nodes' values\n",
    "    - Python: heapq\n",
    "    - Java: PriorityQueue\n",
    "- Graph\n",
    "    - A Graph is a non-linear data structure consisting of vertices and edges. The vertices are sometimes also referred to as nodes and the edges are lines or arcs that connect any two nodes in the graph. More formally a Graph is composed of a set of vertices( V ) and a set of edges( E ). The graph is denoted by G(E, V)."
   ]
  },
  {
   "cell_type": "markdown",
   "id": "a8122593-a581-4558-9dca-4e3624f15b5d",
   "metadata": {},
   "source": [
    "# Search"
   ]
  },
  {
   "cell_type": "markdown",
   "id": "d4ac025e-4183-4978-b861-1e5ab792fcce",
   "metadata": {},
   "source": [
    "## Binary Search\n",
    "binary search use in sorted array, time complexity is O(log(n))  \n",
    "\n",
    "it also able to target in a rotated sort array(see in 33. Search in Rotated Sorted Array), it only need to change the comaparision"
   ]
  },
  {
   "cell_type": "code",
   "execution_count": null,
   "id": "7efef9d4-afc8-4534-8298-45e4b051c965",
   "metadata": {},
   "outputs": [],
   "source": [
    "int binarySearch(int left, int right, int target, int[] nums){\n",
    "    //left == right is important to save time, if don't, it should check which one(left or right) is equal to target\n",
    "    while(left<=right){  \n",
    "        int mid = (left+right)/2;\n",
    "        if(nums[mid] == target){\n",
    "            return mid;\n",
    "        }else if(nums[mid] < target){\n",
    "            left = mid + 1;\n",
    "        }else{\n",
    "            right = mid -1;\n",
    "        }        \n",
    "    }\n",
    "    return -1;\n",
    "}"
   ]
  },
  {
   "cell_type": "code",
   "execution_count": null,
   "id": "9ba312ad-8ef0-49a9-b298-61a6af3c30a0",
   "metadata": {},
   "outputs": [],
   "source": []
  }
 ],
 "metadata": {
  "kernelspec": {
   "display_name": "Python 3 (ipykernel)",
   "language": "python",
   "name": "python3"
  },
  "language_info": {
   "codemirror_mode": {
    "name": "ipython",
    "version": 3
   },
   "file_extension": ".py",
   "mimetype": "text/x-python",
   "name": "python",
   "nbconvert_exporter": "python",
   "pygments_lexer": "ipython3",
   "version": "3.13.2"
  },
  "toc-autonumbering": true,
  "toc-showcode": false,
  "toc-showmarkdowntxt": false,
  "toc-showtags": false
 },
 "nbformat": 4,
 "nbformat_minor": 5
}
