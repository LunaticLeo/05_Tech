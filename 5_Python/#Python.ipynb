{
 "cells": [
  {
   "cell_type": "markdown",
   "id": "42bf3838",
   "metadata": {},
   "source": [
    "**<center><font size=\"6\">Python</font></center>**"
   ]
  },
  {
   "cell_type": "markdown",
   "id": "a1a8c193",
   "metadata": {},
   "source": [
    "# Python"
   ]
  },
  {
   "cell_type": "markdown",
   "id": "91cddfce",
   "metadata": {},
   "source": [
    "## List (used as Array & ArrayList)"
   ]
  },
  {
   "cell_type": "code",
   "execution_count": null,
   "id": "b56e6521",
   "metadata": {
    "vscode": {
     "languageId": "java"
    }
   },
   "outputs": [],
   "source": [
    "# create\n",
    "list =[]\n",
    "# create from another list\n",
    "list = list2.copy\n",
    "\n",
    "# add at right\n",
    "list.append(ele)\n",
    "# add by index\n",
    "list.insert(index,ele)\n",
    "# add with iterable item\n",
    "list.extend(list2)\n",
    "\n",
    "# delete first element same as the argument, if not exsist, values error will occur\n",
    "list.remove(ele)\n",
    "# delete index element(default last) and return the element\n",
    "list.pop(index=-1)\n",
    "# delete index element without return\n",
    "del list[index]\n",
    "# delete all\n",
    "list.clear()\n",
    "\n",
    "# check element exist, if is return true, if no return false\n",
    "ele in list\n",
    "# find first element as argument from start to end(end not include), if not exist, values error will occur\n",
    "list.index(ele,start=0,end=-1)\n",
    "# ascending sort itself\n",
    "list.sort(reverse=True|False, key=myFunc)\n",
    "# this function can sort anything is iterable, and usually use key as lambda expression\n",
    "sorted(list,cmp=None,key=None,reverse=False)\n",
    "# length\n",
    "len(list)\n",
    "# max\n",
    "max(list)\n",
    "# min\n",
    "min(list)\n",
    "# count one element\n",
    "list.count(ele)\n",
    "\n",
    "# transfer list to string with str as filler, str and elements of list must be string\n",
    "str.join(list)\n",
    "\n",
    "# loop list\n",
    "for ele in list:\n",
    "# create list 2,the first expr can be any expression about ele\n",
    "[expr for ele in list]\n",
    "# create list with check\n",
    "[expr for ele in list if x==?]\n",
    "# loop list and get index, start is the first index values, and whatever start is, it will loop all list\n",
    "for i, ele in enumerate(list,start = ?):"
   ]
  },
  {
   "cell_type": "markdown",
   "id": "affa5d7d",
   "metadata": {},
   "source": [
    "## Deque(used as LinkedList & Queue/Stack)"
   ]
  },
  {
   "cell_type": "code",
   "execution_count": null,
   "id": "9244ad78",
   "metadata": {
    "vscode": {
     "languageId": "java"
    }
   },
   "outputs": [],
   "source": [
    "import collections\n",
    "\n",
    "# create deque\n",
    "deque = collections.deque()\n",
    "# create with max length, if full, accoring to the next element, queue will delete for opposite direction\n",
    "deque = collections.deque(maxlen=5)\n",
    "# create from anther deque\n",
    "deque = anotherDeque.copy()\n",
    "\n",
    "# add at end\n",
    "deque.append(element)\n",
    "# add at start\n",
    "deque.appedleft(element)\n",
    "# add with index\n",
    "deque.insert(index,element)\n",
    "# add with a iterable item from right\n",
    "deque.extend(iterable item)\n",
    "# add with a iterable item from left\n",
    "deque.extendleft(iterable item)\n",
    "\n",
    "# delete at end, with return\n",
    "deque.pop()\n",
    "# delete at start, with return\n",
    "deque.popleft()\n",
    "# delete first element, if not exist, error occur\n",
    "deque.remove(element)\n",
    "# delete all element\n",
    "deque.clear()\n",
    "\n",
    "# length\n",
    "len(deque)\n",
    "# find element, if not find error occur, if exist, return first index\n",
    "deque.index(element,start,end)\n",
    "# count element, if not found return 0\n",
    "deque.count(element)\n",
    "# reverse queue\n",
    "deque.reverse()\n",
    "# rotate queus with num, similar to pop and appendleft\n",
    "deque.rotate(num)\n",
    "# sort\n",
    "sorted(deque,cmp=None,key=None,reverse=False)"
   ]
  },
  {
   "cell_type": "markdown",
   "id": "680cb120",
   "metadata": {},
   "source": [
    "## Dictionary(used as hashTable)"
   ]
  },
  {
   "cell_type": "code",
   "execution_count": null,
   "id": "d0eef62a",
   "metadata": {
    "vscode": {
     "languageId": "java"
    }
   },
   "outputs": [],
   "source": [
    "# create dictionary\n",
    "dic = {}\n",
    "# create dictionary with default value, when specific key is not exist, return default value\n",
    "# default Value can be 0 or list\n",
    "dic = collections.defaultdict(defaultValue)\n",
    "\n",
    "# creat dictionary from a list, the values is the occurancy of element\n",
    "dic = collections.Counter(list)\n",
    "\n",
    "# add key-value in dictionary\n",
    "dic[key] = value\n",
    "\n",
    "# update key-value in dictionary\n",
    "dic[key] = newValue\n",
    "\n",
    "# delete key-value in dictionary, return value, if not exist, error occur\n",
    "dic.pop(key)\n",
    "# delete all key-value in dictionary\n",
    "dic.clear()\n",
    "\n",
    "# access key-value in dictionary\n",
    "dic[key]\n",
    "# access key-value in dictionary, if not exist, return None, more parctiable\n",
    "dic.get(key)\n",
    "\n",
    "# check key in dictionary\n",
    "key in dic\n",
    "\n",
    "# length\n",
    "len(dic)\n",
    "# get all keys with list\n",
    "list(dic.keys())\n",
    "# get all values with list\n",
    "list(dic.values())\n",
    "# get all key-value in dictionary\n",
    "list(dic.items())"
   ]
  },
  {
   "cell_type": "markdown",
   "id": "7ee56d61",
   "metadata": {},
   "source": [
    "## Set"
   ]
  },
  {
   "cell_type": "code",
   "execution_count": null,
   "id": "8ddfe70e",
   "metadata": {
    "vscode": {
     "languageId": "java"
    }
   },
   "outputs": [],
   "source": [
    "# create set\n",
    "setEg = set()\n",
    "setEg = set(element,element2...)\n",
    "setEg = set(arr)\n",
    "\n",
    "# add element\n",
    "setEg.add(element)\n",
    "# add element with list, dic\n",
    "setEg.update(elements)\n",
    "\n",
    "# delete element, if not exist, error occur\n",
    "setEg.remove(element)\n",
    "# delete element\n",
    "setEg.discard(element)\n",
    "# delete all\n",
    "setEg.clear()\n",
    "\n",
    "# length\n",
    "len(setEg)\n",
    "# check element exist, return true/false\n",
    "element in setEg"
   ]
  },
  {
   "cell_type": "markdown",
   "id": "bdaa5668-436e-4047-a037-0348acb08883",
   "metadata": {},
   "source": [
    "## Tree"
   ]
  },
  {
   "cell_type": "code",
   "execution_count": null,
   "id": "36b27164-d5fc-4f65-91cd-666e79c10b13",
   "metadata": {
    "vscode": {
     "languageId": "java"
    }
   },
   "outputs": [],
   "source": [
    "%%python\n",
    "class TreeNode:\n",
    "    def __init__(self, key):\n",
    "        self.left = None\n",
    "        self.right = None\n",
    "        self.val = key\n",
    "        \n",
    "class BinarySearchTree:\n",
    "    \n",
    "    def search(root,key):     \n",
    "        if root is None or root.val == key:\n",
    "            return root\n",
    "\n",
    "        if root.val < key:\n",
    "            return search(root.right,key)\n",
    "\n",
    "        return search(root.left,key)\n",
    "\n",
    "    def insert(root, key):\n",
    "        if root is None:\n",
    "            return Node(key)\n",
    "        else:\n",
    "            if root.val == key:\n",
    "                return root\n",
    "            elif root.val < key:\n",
    "                root.right = insert(root.right, key)\n",
    "            else:\n",
    "                root.left = insert(root.left, key)\n",
    "        return root\n",
    " "
   ]
  },
  {
   "cell_type": "code",
   "execution_count": null,
   "id": "76cce1a5-e5da-4fcf-98c8-16927e602eb3",
   "metadata": {
    "vscode": {
     "languageId": "java"
    }
   },
   "outputs": [],
   "source": [
    "# use heapq, only increasing order\n",
    "import heapq\n",
    "\n",
    "# create, heapq usuall transfer list to a heap, not init\n",
    "li = [1,2,3,4]\n",
    "heapq.heapify(li) # then li became a heap\n",
    "\n",
    "ele=5\n",
    "k=1\n",
    "\n",
    "# add\n",
    "heapq.heappush(li, ele)\n",
    "# add first and then delete smallest ele\n",
    "heapq.heappushpop(li, ele)\n",
    "# delete smallest ele first and add a ele\n",
    "heapq.heapreplace(li, ele)\n",
    "# delete smallest ele, return the deleted ele\n",
    "heapq.heappop(li)\n",
    "\n",
    "# access k largest ele from heap\n",
    "heapq.nlargest(k, li, key=fun)\n",
    "# access k smallest ele from heap\n",
    "heapq.nsmallest(k, li, key=fun)\n",
    "# access first ele\n",
    "li[0]\n",
    "\n",
    "# length\n",
    "len(li)\n",
    "\n",
    "print(li)"
   ]
  },
  {
   "cell_type": "code",
   "execution_count": null,
   "id": "f4ac6995",
   "metadata": {},
   "outputs": [],
   "source": [
    "// Comparator\n",
    "\n",
    "// string innate compare method, this compare by alphabet not string length, aaa < b \n",
    "\"aaa\".compareTo(\"b\") //-1\n",
    "\"b\".compareTo(\"b\") //0\n",
    "\"bb\".compareTo(\"b\") //1\n",
    "\"c\".compareTo(\"b\") //1\n",
    "\n",
    "// comparator innate method only have int, double and long\n",
    "Comparator.comparingInt()\n",
    "Comparator.comparingDouble()\n",
    "Comparator.comparingLong()\n",
    "\n",
    "// example\n",
    "Comparator.comparingInt(String::length)\n",
    "\n",
    "// Comparator interface\n",
    "import java.util.Comparator;\n",
    "public class xxxComparator implements Comparator<E> {\n",
    "    public int compare(E s1, E s2) {\n",
    "        // compare relationship of s1 s2. \n",
    "\n",
    "        //return should be int, -1 0 1 or other integer. 0 counts as false\n",
    "\n",
    "        // example if s1 and s2 are String\n",
    "        return s2.length() - s1.length();\n",
    "    }\n",
    "    //example\n",
    "    public static void main (String[] args) {\n",
    "        List<String> names = Arrays.asList(\"Jan\", \"Tommy\", \"Jo\", \"Adam\");\n",
    "        names.sort(new xxxComparator());\n",
    "        System.out.println(names); // [Tommy, Adam, Jan, Jo]\n",
    "    }\n",
    "}\n",
    "\n",
    "\n",
    "// Sort Using Reference to Static Method\n",
    "Collections.sort(humans, Comparator.comparing(Human::getName));\n",
    "humans.sort(Human::compareByNameThenAge);\n",
    "\n",
    "// creating an anonymous inner class for the Comparator\n",
    "new Comparator<E>() {\n",
    "    @Override\n",
    "    public int compare(E h1, E h2) {\n",
    "        return ;\n",
    "    }\n",
    "} \n",
    "\n",
    "// compare with multiple conditions\n",
    "Comparator.comparing(Human::getName).thenComparing(Human::getAge)\n",
    "\n",
    "//lambda expression\n",
    "(a,b) -> a-b\n",
    "（a,b）->()\n",
    "\n",
    "//example\n",
    "Arrays.sort(String[], (a, b) -> Integer.signum(a.length() - b.length()));\n",
    "Arrays.sort(String[], Comparator.comparingInt(String::length));   // compare string length directly\n",
    "// Collections can be array, arraylist variable directly\n",
    "Collections.sort(E, new Comparator<E>() {\n",
    "        @Override\n",
    "        public int compare(E h1, E h2) {\n",
    "            return ;\n",
    "        }\n",
    "    });\n",
    "// using an instance method reference \n",
    "Collections.sort( humans, Comparator.comparing(Human::getName));\n",
    "\n",
    "// sort by stream, and comparator use the same way\n",
    "List<String> letters = Lists.newArrayList(\"B\", \"A\", \"C\");\n",
    "List<String> sortedLetters = letters.stream().sorted().collect(Collectors.toList());\n",
    "List<Human> sortedHumans = humans.stream().sorted(nameComparator).collect(Collectors.toList());\n",
    "// reverse order \n",
    "List<Human> reverseSortedHumans = humans.stream()\n",
    "    .sorted(Comparator.comparing(Human::getName, Comparator.reverseOrder()))\n",
    "    .collect(Collectors.toList());"
   ]
  }
 ],
 "metadata": {
  "kernelspec": {
   "display_name": "Python 3 (ipykernel)",
   "language": "python",
   "name": "python3"
  },
  "language_info": {
   "codemirror_mode": {
    "name": "ipython",
    "version": 3
   },
   "file_extension": ".py",
   "mimetype": "text/x-python",
   "name": "python",
   "nbconvert_exporter": "python",
   "pygments_lexer": "ipython3",
   "version": "3.13.2"
  },
  "toc-autonumbering": true,
  "toc-showcode": false,
  "toc-showmarkdowntxt": false,
  "toc-showtags": false
 },
 "nbformat": 4,
 "nbformat_minor": 5
}
